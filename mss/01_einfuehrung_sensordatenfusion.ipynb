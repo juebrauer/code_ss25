{
 "cells": [
  {
   "cell_type": "markdown",
   "id": "23720e70-5979-43c9-97cc-4a0f3c68d68a",
   "metadata": {},
   "source": [
    "# Erzeugung von Zufallszahlen"
   ]
  },
  {
   "cell_type": "markdown",
   "id": "a04cbac5-66c7-4690-96b8-219488c434f7",
   "metadata": {},
   "source": [
    "## Normalverteilte Zufallszahlen"
   ]
  },
  {
   "cell_type": "code",
   "execution_count": 1,
   "id": "f364e590-64d0-4e8a-8e42-2a99b4494e09",
   "metadata": {},
   "outputs": [],
   "source": [
    "import numpy"
   ]
  },
  {
   "cell_type": "code",
   "execution_count": 2,
   "id": "0b6b3e81-97d9-4465-8a04-385c91789404",
   "metadata": {},
   "outputs": [
    {
     "name": "stdout",
     "output_type": "stream",
     "text": [
      "Requirement already satisfied: numpy in /home/juebrauer/miniconda3/envs/env_ml_pytorch/lib/python3.12/site-packages (2.2.1)\n"
     ]
    }
   ],
   "source": [
    "!pip install numpy"
   ]
  },
  {
   "cell_type": "code",
   "execution_count": 11,
   "id": "39011705-b336-46fe-a93a-009e7f2b2764",
   "metadata": {},
   "outputs": [],
   "source": [
    "A = numpy.random.normal(loc=0.0, scale=1.0, size=10000)"
   ]
  },
  {
   "cell_type": "code",
   "execution_count": 12,
   "id": "df785036-6119-4b6b-a323-c7d53f7508ba",
   "metadata": {},
   "outputs": [
    {
     "data": {
      "text/plain": [
       "array([-1.56669686, -0.24350898,  1.1499306 ,  0.64031271, -1.3104449 ,\n",
       "       -2.6674762 ,  1.76917861, -0.31524475,  1.51404834,  0.63434226])"
      ]
     },
     "execution_count": 12,
     "metadata": {},
     "output_type": "execute_result"
    }
   ],
   "source": [
    "A[:10]"
   ]
  },
  {
   "cell_type": "code",
   "execution_count": 13,
   "id": "8803fd20-0c93-49d8-9ec5-773d10748151",
   "metadata": {},
   "outputs": [
    {
     "data": {
      "text/plain": [
       "(10000,)"
      ]
     },
     "execution_count": 13,
     "metadata": {},
     "output_type": "execute_result"
    }
   ],
   "source": [
    "A.shape"
   ]
  },
  {
   "cell_type": "code",
   "execution_count": 14,
   "id": "7856289a-7fc6-474c-b928-b63028ca4cfd",
   "metadata": {},
   "outputs": [
    {
     "data": {
      "text/plain": [
       "1"
      ]
     },
     "execution_count": 14,
     "metadata": {},
     "output_type": "execute_result"
    }
   ],
   "source": [
    "A.ndim"
   ]
  },
  {
   "cell_type": "code",
   "execution_count": 15,
   "id": "3e7470d5-da8d-4c0c-855b-71a221c54074",
   "metadata": {},
   "outputs": [
    {
     "data": {
      "text/plain": [
       "np.float64(0.011263889792106843)"
      ]
     },
     "execution_count": 15,
     "metadata": {},
     "output_type": "execute_result"
    }
   ],
   "source": [
    "numpy.mean(A)"
   ]
  },
  {
   "cell_type": "code",
   "execution_count": 16,
   "id": "6eb711b0-be55-4fd4-aefa-768b906b1f16",
   "metadata": {},
   "outputs": [
    {
     "data": {
      "text/plain": [
       "np.float64(1.0079939572338423)"
      ]
     },
     "execution_count": 16,
     "metadata": {},
     "output_type": "execute_result"
    }
   ],
   "source": [
    "numpy.std(A)"
   ]
  },
  {
   "cell_type": "code",
   "execution_count": 18,
   "id": "2fb4bc01-70b0-4964-a7f6-c8c063268386",
   "metadata": {},
   "outputs": [
    {
     "data": {
      "text/plain": [
       "np.float64(-3.7373144399406573)"
      ]
     },
     "execution_count": 18,
     "metadata": {},
     "output_type": "execute_result"
    }
   ],
   "source": [
    "numpy.min(A)"
   ]
  },
  {
   "cell_type": "code",
   "execution_count": 19,
   "id": "d6a91b97-1af3-42df-be98-9eff6146598c",
   "metadata": {},
   "outputs": [
    {
     "data": {
      "text/plain": [
       "np.float64(3.7923895808727663)"
      ]
     },
     "execution_count": 19,
     "metadata": {},
     "output_type": "execute_result"
    }
   ],
   "source": [
    "numpy.max(A)"
   ]
  },
  {
   "cell_type": "code",
   "execution_count": 25,
   "id": "fd0c108a-3f50-4025-9c9e-093dd9f9e53e",
   "metadata": {},
   "outputs": [
    {
     "data": {
      "image/png": "[encoded data removed]",
      "text/plain": [
       "<Figure size 640x480 with 1 Axes>"
      ]
     },
     "metadata": {},
     "output_type": "display_data"
    }
   ],
   "source": [
    "import matplotlib.pyplot as plt\n",
    "A = numpy.random.normal(loc=0.0, scale=1.0, size=10000)\n",
    "B = numpy.random.normal(loc=2.5, scale=0.5, size=10000)\n",
    "plt.hist(A, bins=50, color=\"orange\")\n",
    "plt.hist(B, bins=50, color=\"red\")\n",
    "plt.show()"
   ]
  },
  {
   "cell_type": "markdown",
   "id": "1f4f681e-6c5e-419f-be42-89d94d9ad6cd",
   "metadata": {},
   "source": [
    "## Gleichverteilte Zufallszahlen"
   ]
  },
  {
   "cell_type": "code",
   "execution_count": 34,
   "id": "1522aa8c-a98d-45a5-8549-590911c0e1fa",
   "metadata": {},
   "outputs": [
    {
     "data": {
      "text/plain": [
       "[-1, -2, 0, 1, -3, -1, -1, -2, -3, 0]"
      ]
     },
     "execution_count": 34,
     "metadata": {},
     "output_type": "execute_result"
    }
   ],
   "source": [
    "[numpy.random.randint(low=-3, high=+3) for _ in range(10)]"
   ]
  },
  {
   "cell_type": "code",
   "execution_count": 40,
   "id": "3d591493-8f40-491b-9c95-9c81e57e26b4",
   "metadata": {},
   "outputs": [
    {
     "data": {
      "image/png": "[encoded data removed]",
      "text/plain": [
       "<Figure size 640x480 with 1 Axes>"
      ]
     },
     "metadata": {},
     "output_type": "display_data"
    }
   ],
   "source": [
    "import matplotlib.pyplot as plt\n",
    "A = numpy.random.uniform(low=-5.0, high=+7.0, size=10000)\n",
    "plt.hist(A, bins=50, color=\"orange\", edgecolor=\"black\")\n",
    "plt.show()"
   ]
  },
  {
   "cell_type": "code",
   "execution_count": null,
   "id": "8b8ec6d1-2304-43f7-a547-87e32f000ab3",
   "metadata": {},
   "outputs": [],
   "source": []
  }
 ],
 "metadata": {
  "kernelspec": {
   "display_name": "Python 3 (ipykernel)",
   "language": "python",
   "name": "python3"
  },
  "language_info": {
   "codemirror_mode": {
    "name": "ipython",
    "version": 3
   },
   "file_extension": ".py",
   "mimetype": "text/x-python",
   "name": "python",
   "nbconvert_exporter": "python",
   "pygments_lexer": "ipython3",
   "version": "3.12.8"
  }
 },
 "nbformat": 4,
 "nbformat_minor": 5
}
