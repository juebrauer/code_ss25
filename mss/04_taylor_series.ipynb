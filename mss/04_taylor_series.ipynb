{
 "cells": [
  {
   "cell_type": "markdown",
   "metadata": {},
   "source": [
    "# Introduction\n",
    "\n",
    "The Jacobian matrix is part of the formulas of the Extended Kalman Filter.\n",
    "\n",
    "There, the Jacobian appears because a linear approximation of non-linear transition and measurement matrices is needed.\n",
    "\n",
    "The Jacobian matrix includes all partial derivatives of a vectorial function.\n",
    "\n",
    "But what do derivatives have to do with linear approximation?\n",
    "\n",
    "Well, a lot!\n",
    "\n",
    "Derivatives can be found e.g. in the Taylor series approximation of a function."
   ]
  },
  {
   "cell_type": "markdown",
   "metadata": {},
   "source": [
    "# Taylor polynoms and Taylor series approximation of a function"
   ]
  },
  {
   "cell_type": "markdown",
   "metadata": {},
   "source": [
    "The term $\\sum\\limits_{i=0}^{n} \\frac{f^{(i)}(x_0)}{i!} (x-x_0)^i$ is called a *Taylor polynom*.\n",
    "\n",
    "A function $f(x)$ can be approximated (in general) better and better using larger and larger *Taylor polynoms*, such that in the limit:\n",
    "\n",
    "$f(x) = \\sum\\limits_{i=0}^{\\infty} \\frac{f^{(i)}(x_0)}{i!} (x-x_0)^i$\n",
    "\n",
    "In the following we will try to show that the approximation becomes better and better when using larger and larger Taylor polynoms.\n",
    "\n",
    "But for computing the Taylor polynoms we need to be able to compute the i-th derivative $f^{(i)}(x)$ of a function $f(x)$.\n",
    "\n",
    "For this, we use the Python module *SymPy*:\n",
    "\n",
    "https://www.sympy.org/en/index.html"
   ]
  },
  {
   "cell_type": "markdown",
   "metadata": {},
   "source": [
    "# SymPy for computing derivatives"
   ]
  },
  {
   "cell_type": "code",
   "execution_count": null,
   "metadata": {},
   "outputs": [],
   "source": [
    "!pip install sympy"
   ]
  },
  {
   "cell_type": "code",
   "execution_count": 3,
   "metadata": {},
   "outputs": [],
   "source": [
    "import sympy"
   ]
  },
  {
   "cell_type": "code",
   "execution_count": 4,
   "metadata": {},
   "outputs": [],
   "source": [
    "from sympy import diff, sin, cos, exp\n",
    "from sympy.abc import x,y "
   ]
  },
  {
   "cell_type": "code",
   "execution_count": 5,
   "metadata": {},
   "outputs": [],
   "source": [
    "expr = x**2"
   ]
  },
  {
   "cell_type": "code",
   "execution_count": 6,
   "metadata": {},
   "outputs": [
    {
     "data": {
      "text/plain": [
       "sympy.core.power.Pow"
      ]
     },
     "execution_count": 6,
     "metadata": {},
     "output_type": "execute_result"
    }
   ],
   "source": [
    "type(expr)"
   ]
  },
  {
   "cell_type": "code",
   "execution_count": 7,
   "metadata": {},
   "outputs": [
    {
     "data": {
      "text/latex": [
       "$\\displaystyle 2 x$"
      ],
      "text/plain": [
       "2*x"
      ]
     },
     "execution_count": 7,
     "metadata": {},
     "output_type": "execute_result"
    }
   ],
   "source": [
    "diff(expr)"
   ]
  },
  {
   "cell_type": "code",
   "execution_count": 8,
   "metadata": {},
   "outputs": [],
   "source": [
    "expr = x**5 + x**2 + sin(x)"
   ]
  },
  {
   "cell_type": "markdown",
   "metadata": {},
   "source": [
    "Let us compute the first derivative of this function:"
   ]
  },
  {
   "cell_type": "code",
   "execution_count": 9,
   "metadata": {},
   "outputs": [
    {
     "data": {
      "text/latex": [
       "$\\displaystyle 5 x^{4} + 2 x + \\cos{\\left(x \\right)}$"
      ],
      "text/plain": [
       "5*x**4 + 2*x + cos(x)"
      ]
     },
     "execution_count": 9,
     "metadata": {},
     "output_type": "execute_result"
    }
   ],
   "source": [
    "diff(expr)"
   ]
  },
  {
   "cell_type": "markdown",
   "metadata": {},
   "source": [
    "Now, let us compute the second derivative of this function:"
   ]
  },
  {
   "cell_type": "code",
   "execution_count": 10,
   "metadata": {},
   "outputs": [
    {
     "data": {
      "text/latex": [
       "$\\displaystyle 20 x^{3} - \\sin{\\left(x \\right)} + 2$"
      ],
      "text/plain": [
       "20*x**3 - sin(x) + 2"
      ]
     },
     "execution_count": 10,
     "metadata": {},
     "output_type": "execute_result"
    }
   ],
   "source": [
    "diff(expr,x,2)"
   ]
  },
  {
   "cell_type": "markdown",
   "metadata": {},
   "source": [
    "And what is the 5-th derivative of this function?"
   ]
  },
  {
   "cell_type": "code",
   "execution_count": 11,
   "metadata": {},
   "outputs": [
    {
     "data": {
      "text/latex": [
       "$\\displaystyle \\cos{\\left(x \\right)} + 120$"
      ],
      "text/plain": [
       "cos(x) + 120"
      ]
     },
     "execution_count": 11,
     "metadata": {},
     "output_type": "execute_result"
    }
   ],
   "source": [
    "diff(expr,x,5)"
   ]
  },
  {
   "cell_type": "markdown",
   "metadata": {},
   "source": [
    "How can we use/evaluate the resulting function?"
   ]
  },
  {
   "cell_type": "code",
   "execution_count": 12,
   "metadata": {},
   "outputs": [],
   "source": [
    "d = diff(expr,x,5)"
   ]
  },
  {
   "cell_type": "code",
   "execution_count": 13,
   "metadata": {},
   "outputs": [
    {
     "data": {
      "text/latex": [
       "$\\displaystyle 121.0$"
      ],
      "text/plain": [
       "121.000000000000"
      ]
     },
     "execution_count": 13,
     "metadata": {},
     "output_type": "execute_result"
    }
   ],
   "source": [
    "d.evalf(subs={x:0})"
   ]
  },
  {
   "cell_type": "markdown",
   "metadata": {},
   "source": [
    "# Taylor polynom class"
   ]
  },
  {
   "cell_type": "code",
   "execution_count": null,
   "metadata": {},
   "outputs": [],
   "source": [
    "import math\n",
    "\n",
    "class taylor_polynom:\n",
    "\n",
    "    def __init__(self, f, n, x_0):\n",
    "\n",
    "        self.n = n\n",
    "        self.x_0 = x_0\n",
    "        self.derivatives = [diff(f,x,i) for i in range(0,n+1)]\n",
    "        self.derivatives_evaluated = [d.evalf(subs={x : x_0}) for d in self.derivatives]\n",
    "\n",
    "\n",
    "\n",
    "    def get_approx(self, x_value):\n",
    "\n",
    "        s = 0.0\n",
    "        for i in range(0,self.n+1):\n",
    "            i_th_term = (self.derivatives_evaluated[i] / math.factorial(i)) * (x_value - self.x_0)**i\n",
    "            s += i_th_term\n",
    "        return s\n",
    "     "
   ]
  },
  {
   "cell_type": "code",
   "execution_count": null,
   "metadata": {},
   "outputs": [],
   "source": [
    "f = exp(x)\n",
    "print( \"type=\", type(f) )\n",
    "print( \"f(0)=\", f.evalf(subs={x:0}) )"
   ]
  },
  {
   "cell_type": "code",
   "execution_count": null,
   "metadata": {},
   "outputs": [],
   "source": [
    "tp = taylor_polynom(f, 5, 0)\n",
    "print(tp.derivatives)\n",
    "print(tp.derivatives_evaluated)"
   ]
  },
  {
   "cell_type": "code",
   "execution_count": null,
   "metadata": {},
   "outputs": [],
   "source": [
    "f = cos(x)\n",
    "print( \"type=\", type(f) )\n",
    "print( \"f(0)=\", f.evalf(subs={x:0}) )"
   ]
  },
  {
   "cell_type": "code",
   "execution_count": null,
   "metadata": {},
   "outputs": [],
   "source": [
    "tp = taylor_polynom(f, 1, 0)\n",
    "print(tp.derivatives)\n",
    "print(tp.derivatives_evaluated)"
   ]
  },
  {
   "cell_type": "code",
   "execution_count": null,
   "metadata": {},
   "outputs": [],
   "source": [
    "f.evalf(subs={x:0})"
   ]
  },
  {
   "cell_type": "code",
   "execution_count": null,
   "metadata": {},
   "outputs": [],
   "source": [
    "tp.get_approx(x_value=0)"
   ]
  },
  {
   "cell_type": "code",
   "execution_count": null,
   "metadata": {},
   "outputs": [],
   "source": [
    "import numpy as np\n",
    "xs = np.arange(-15.0,+15.0,0.1)\n",
    "ys_true = []\n",
    "ys_approx = []\n",
    "for x_value in xs:\n",
    "    ys_true.append( f.evalf(subs={x:x_value}) )\n",
    "    ys_approx.append( tp.get_approx(x_value) ) "
   ]
  },
  {
   "cell_type": "code",
   "execution_count": null,
   "metadata": {},
   "outputs": [],
   "source": [
    "xs[:5]"
   ]
  },
  {
   "cell_type": "code",
   "execution_count": null,
   "metadata": {},
   "outputs": [],
   "source": [
    "ys_true[:5]"
   ]
  },
  {
   "cell_type": "code",
   "execution_count": null,
   "metadata": {},
   "outputs": [],
   "source": [
    "ys_approx[:5]"
   ]
  },
  {
   "cell_type": "code",
   "execution_count": null,
   "metadata": {},
   "outputs": [],
   "source": [
    "import matplotlib.pyplot as plt\n",
    "plt.plot(xs,ys_true, color=\"black\")\n",
    "plt.plot(xs,ys_approx, color=\"red\")\n",
    "plt.xlim(-0.5,0.5)\n",
    "plt.show()"
   ]
  },
  {
   "cell_type": "code",
   "execution_count": null,
   "metadata": {},
   "outputs": [],
   "source": []
  },
  {
   "cell_type": "code",
   "execution_count": null,
   "metadata": {},
   "outputs": [],
   "source": []
  }
 ],
 "metadata": {
  "kernelspec": {
   "display_name": "env_teaching",
   "language": "python",
   "name": "python3"
  },
  "language_info": {
   "codemirror_mode": {
    "name": "ipython",
    "version": 3
   },
   "file_extension": ".py",
   "mimetype": "text/x-python",
   "name": "python",
   "nbconvert_exporter": "python",
   "pygments_lexer": "ipython3",
   "version": "3.12.9"
  }
 },
 "nbformat": 4,
 "nbformat_minor": 4
}
